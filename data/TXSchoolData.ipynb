{
 "cells": [
  {
   "cell_type": "raw",
   "metadata": {},
   "source": [
    "This file was used to produce DistrictDisparities2015.csv and TXDemo2015.csv for the Texas Appleseed \"School to Prison Pipeline\" map. If there are any errors in that dataset, they probably originated in this file.\n",
    "\n",
    "The TEA published its District Data file in a different format for 2015, so the process for this notebook has changed. Here it is:\n",
    "\n",
    "1. Download all 20 of the 2014-2015 region files from http://rptsvr1.tea.texas.gov/adhocrpt/Disciplinary_Data_Products/Download_Region_Districts.html and paste them together (as TX2015.csv). Sorry this is tedious and not automated.\n",
    "\n",
    "2. Download \"District and Charter Detail Data\" (Snapshot 2015) \"Data File (comma-delimited *.dat)\" from https://rptsvr1.tea.texas.gov/perfreport/snapshot/download.html (as district2015.csv)\n",
    "\n",
    "3. Put TX2015.csv and district2015.csv in the same directory where this notebook is running.\n",
    "\n",
    "4. Run the Python code below (in Jupyter, click Kernel -> \"Restart & Run All\"). The files created in steps 1-2 are used by the lines that say \"apple = pd.read_csv('TX2015.csv')\" and \"district = pd.read_csv('district2015.csv')\".\n",
    "\n",
    "5. The program will create two new files to use in the Appleseed map: 'DistrictDisparities2015.csv' and 'TXDemo2015.csv'.\n"
   ]
  },
  {
   "cell_type": "code",
   "execution_count": 1,
   "metadata": {
    "collapsed": false
   },
   "outputs": [],
   "source": [
    "\"\"\"\n",
    "Downloaded all 20 of the 2014-2015 region files from \n",
    "http://ritter.tea.state.tx.us/adhocrpt/Disciplinary_Data_Products/Download_Region_Districts.html \n",
    "and pasted them together (as TX2015.csv).\n",
    "\n",
    "Also downloaded \"District and Charter Detail Data\" (Snapshot 2015) from \n",
    "http://ritter.tea.state.tx.us/perfreport/snapshot/download.html (as district2015.csv)\n",
    "\n",
    "\"\"\"\n",
    "\n",
    "import pandas as pd\n",
    "\n",
    "apple = pd.read_csv('TX2015.csv')\n",
    "district = pd.read_csv('district2015.csv')\n",
    "\n",
    "# apple[:5]"
   ]
  },
  {
   "cell_type": "code",
   "execution_count": 2,
   "metadata": {
    "collapsed": true
   },
   "outputs": [],
   "source": [
    "# Changing the reference to 2015 in the column name might help prevent bugs when adapting this file for later years.\n",
    "\n",
    "import re\n",
    "\n",
    "apple = apple.rename(columns=lambda x: re.sub(\"YR\\d\\d\",\"Group Punishments\",x))"
   ]
  },
  {
   "cell_type": "code",
   "execution_count": 3,
   "metadata": {
    "collapsed": false
   },
   "outputs": [],
   "source": [
    "# deleting redundant columns\n",
    "\n",
    "apple = apple[['DISTRICT','SECTION', 'HEADING NAME', \"Group Punishments\"]]\n",
    "district = district[['DISTRICT','DISTNAME','REGION','DPETALLC','DPETBLAP','DPETHISP','DPETWHIP','DPETINDP','DPETASIP',\n",
    "                    'DPETPCIP','DPETTWOP','DPETECOP','DPETSPEP']]\n",
    "                "
   ]
  },
  {
   "cell_type": "code",
   "execution_count": 4,
   "metadata": {
    "collapsed": false
   },
   "outputs": [],
   "source": [
    "# Keeping only the rows that categorize students by protected class. \n",
    "# Also getting rid of rows that count students instead of incidents, or non-disadvantaged kids.\n",
    "\n",
    "patternIn = 'WHITE|BLACK OR AFRICAN AMERICAN|AMERICAN INDIAN OR ALASKA NAT|HISPANIC|NATIVE HAWAIIAN|ASIAN|TWO OR MORE RACES|SPEC. ED|ECO. DISAD|ECO DISAD.'\n",
    "patternOut = 'SPEC. ED. STUDENTS| SPEC. ED. EXPULSIONS TO JJAEP|ECO DISAD. STUDENTS|ECO. DISAD. STUDENTS|AT RISK|NON AT|UNKNOWN AT|NON SPEC. ED.|NON ECO DISAD.|NON ECO. DISAD.'\n",
    "\n",
    "apple = apple[apple[\"HEADING NAME\"].str.contains(patternIn)]\n",
    "apple = apple[apple[\"HEADING NAME\"].str.contains(patternOut) == False]\n",
    "\n",
    "# Delete rows appearing to double-count the same expulsions.\n",
    "\n",
    "apple = apple[apple[\"SECTION\"].str.contains(\"JJAEP EXPULSIONS|DISCIPLINE ACTION COUNTS\") == False] "
   ]
  },
  {
   "cell_type": "code",
   "execution_count": 5,
   "metadata": {
    "collapsed": false
   },
   "outputs": [],
   "source": [
    "# Consolidating some of the descriptors into broader categories\n",
    "\n",
    "appleReplace = {\"Group Punishments\":\n",
    "                    {-99999999: 1},\n",
    "                \"SECTION\":{\n",
    "            'M-ECO\\. DISADV\\. JJAEP PLACEMENTS|H-SPEC\\. ED\\. JJAEP EXPULSIONS':'C-JJAEP EXPULSIONS',\n",
    "            'N-ECO\\. DISADV\\. EXPULSIONS|I-SPEC\\. ED\\. EXPULSIONS': 'D-EXPULSION ACTIONS',\n",
    "            'O-ECO\\. DISADV\\. DAEP PLACEMENTS|J-SPEC\\. ED\\. DAEP PLACEMENTS': 'E-DAEP PLACEMENTS',\n",
    "            'P-ECO\\. DISADV\\. OUT OF SCHOOL SUS.|K-SPEC\\. ED\\. OUT OF SCHOOL SUS\\.': 'F-OUT OF SCHOOL SUSPENSIONS',\n",
    "            'Q-ECO\\. DISADV\\. IN SCHOOL SUS\\.|L-SPEC\\. ED\\. IN SCHOOL SUS\\.': 'G-IN SCHOOL SUSPENSIONS'},\n",
    "                \"HEADING NAME\": {'SPEC\\. ED.*$': 'Special Education',\n",
    "                                 'ECO?. DISAD.*$': 'Economic Disadvantage'}\n",
    "        }\n",
    "\n",
    "apple = apple.replace(to_replace = appleReplace, regex = True)\n"
   ]
  },
  {
   "cell_type": "code",
   "execution_count": 6,
   "metadata": {
    "collapsed": false
   },
   "outputs": [],
   "source": [
    "groups = {'AMERICAN INDIAN OR ALASKA NAT': 'DPETINDP',\n",
    " 'ASIAN': 'DPETASIP',\n",
    " 'BLACK OR AFRICAN AMERICAN': 'DPETBLAP',\n",
    " 'Economic Disadvantage': 'DPETECOP',\n",
    " 'HISPANIC/LATINO': 'DPETHISP',\n",
    " 'NATIVE HAWAIIAN/OTHER PACIFIC': 'DPETPCIP',\n",
    " 'Special Education': 'DPETSPEP',\n",
    " 'TWO OR MORE RACES': 'DPETTWOP',\n",
    " 'WHITE': 'DPETWHIP'}\n",
    "\n",
    "# Using percentages to get counts of students in each group.\n",
    "\n",
    "for key in groups:\n",
    "    district[key] = district[\"DPETALLC\"] * district[groups[key]] // 100\n",
    "    \n",
    "district = district.astype({'BLACK OR AFRICAN AMERICAN':int, 'HISPANIC/LATINO': int, 'WHITE': int, \n",
    "          'AMERICAN INDIAN OR ALASKA NAT': int, 'ASIAN': int, 'NATIVE HAWAIIAN/OTHER PACIFIC': int,\n",
    "         'TWO OR MORE RACES': int, 'Economic Disadvantage': int, 'Special Education': int})\n",
    "\n",
    "# district[:5]"
   ]
  },
  {
   "cell_type": "code",
   "execution_count": 7,
   "metadata": {
    "collapsed": false
   },
   "outputs": [],
   "source": [
    "distPop = district[['DISTRICT','DPETALLC']]\n",
    "\n",
    "# distPop[:5]"
   ]
  },
  {
   "cell_type": "code",
   "execution_count": 8,
   "metadata": {
    "collapsed": false
   },
   "outputs": [],
   "source": [
    "appleRace = apple[apple[\"HEADING NAME\"].str.contains(\"Economic Disadvantage|Special Education\") == False]\n",
    "\n",
    "# appleRace[10:25]"
   ]
  },
  {
   "cell_type": "code",
   "execution_count": 9,
   "metadata": {
    "collapsed": false
   },
   "outputs": [],
   "source": [
    "appleRace = appleRace.set_index([\"DISTRICT\",\"SECTION\"])\n",
    "appleRace[\"PUNISHMENTS\"] = appleRace[\"Group Punishments\"].groupby(level = ['DISTRICT','SECTION']).sum()\n",
    "\n",
    "# appleRace[10:25]"
   ]
  },
  {
   "cell_type": "code",
   "execution_count": 10,
   "metadata": {
    "collapsed": false
   },
   "outputs": [
    {
     "data": {
      "text/html": [
       "<div>\n",
       "<table border=\"1\" class=\"dataframe\">\n",
       "  <thead>\n",
       "    <tr style=\"text-align: right;\">\n",
       "      <th></th>\n",
       "      <th>DISTRICT</th>\n",
       "      <th>SECTION</th>\n",
       "      <th>PUNISHMENTS</th>\n",
       "    </tr>\n",
       "  </thead>\n",
       "  <tbody>\n",
       "    <tr>\n",
       "      <th>30</th>\n",
       "      <td>108903</td>\n",
       "      <td>F-OUT OF SCHOOL SUSPENSIONS</td>\n",
       "      <td>676</td>\n",
       "    </tr>\n",
       "    <tr>\n",
       "      <th>34</th>\n",
       "      <td>108903</td>\n",
       "      <td>G-IN SCHOOL SUSPENSIONS</td>\n",
       "      <td>1969</td>\n",
       "    </tr>\n",
       "    <tr>\n",
       "      <th>38</th>\n",
       "      <td>108904</td>\n",
       "      <td>D-EXPULSION ACTIONS</td>\n",
       "      <td>2</td>\n",
       "    </tr>\n",
       "    <tr>\n",
       "      <th>40</th>\n",
       "      <td>108904</td>\n",
       "      <td>E-DAEP PLACEMENTS</td>\n",
       "      <td>768</td>\n",
       "    </tr>\n",
       "    <tr>\n",
       "      <th>43</th>\n",
       "      <td>108904</td>\n",
       "      <td>F-OUT OF SCHOOL SUSPENSIONS</td>\n",
       "      <td>5853</td>\n",
       "    </tr>\n",
       "    <tr>\n",
       "      <th>49</th>\n",
       "      <td>108904</td>\n",
       "      <td>G-IN SCHOOL SUSPENSIONS</td>\n",
       "      <td>13962</td>\n",
       "    </tr>\n",
       "    <tr>\n",
       "      <th>55</th>\n",
       "      <td>108809</td>\n",
       "      <td>F-OUT OF SCHOOL SUSPENSIONS</td>\n",
       "      <td>1</td>\n",
       "    </tr>\n",
       "    <tr>\n",
       "      <th>56</th>\n",
       "      <td>31903</td>\n",
       "      <td>D-EXPULSION ACTIONS</td>\n",
       "      <td>2</td>\n",
       "    </tr>\n",
       "    <tr>\n",
       "      <th>58</th>\n",
       "      <td>31903</td>\n",
       "      <td>E-DAEP PLACEMENTS</td>\n",
       "      <td>944</td>\n",
       "    </tr>\n",
       "    <tr>\n",
       "      <th>62</th>\n",
       "      <td>31903</td>\n",
       "      <td>F-OUT OF SCHOOL SUSPENSIONS</td>\n",
       "      <td>1187</td>\n",
       "    </tr>\n",
       "    <tr>\n",
       "      <th>67</th>\n",
       "      <td>31903</td>\n",
       "      <td>G-IN SCHOOL SUSPENSIONS</td>\n",
       "      <td>4552</td>\n",
       "    </tr>\n",
       "    <tr>\n",
       "      <th>74</th>\n",
       "      <td>108905</td>\n",
       "      <td>E-DAEP PLACEMENTS</td>\n",
       "      <td>38</td>\n",
       "    </tr>\n",
       "    <tr>\n",
       "      <th>75</th>\n",
       "      <td>108905</td>\n",
       "      <td>F-OUT OF SCHOOL SUSPENSIONS</td>\n",
       "      <td>86</td>\n",
       "    </tr>\n",
       "    <tr>\n",
       "      <th>76</th>\n",
       "      <td>108905</td>\n",
       "      <td>G-IN SCHOOL SUSPENSIONS</td>\n",
       "      <td>975</td>\n",
       "    </tr>\n",
       "    <tr>\n",
       "      <th>77</th>\n",
       "      <td>108807</td>\n",
       "      <td>D-EXPULSION ACTIONS</td>\n",
       "      <td>1</td>\n",
       "    </tr>\n",
       "  </tbody>\n",
       "</table>\n",
       "</div>"
      ],
      "text/plain": [
       "    DISTRICT                      SECTION  PUNISHMENTS\n",
       "30    108903  F-OUT OF SCHOOL SUSPENSIONS          676\n",
       "34    108903      G-IN SCHOOL SUSPENSIONS         1969\n",
       "38    108904          D-EXPULSION ACTIONS            2\n",
       "40    108904            E-DAEP PLACEMENTS          768\n",
       "43    108904  F-OUT OF SCHOOL SUSPENSIONS         5853\n",
       "49    108904      G-IN SCHOOL SUSPENSIONS        13962\n",
       "55    108809  F-OUT OF SCHOOL SUSPENSIONS            1\n",
       "56     31903          D-EXPULSION ACTIONS            2\n",
       "58     31903            E-DAEP PLACEMENTS          944\n",
       "62     31903  F-OUT OF SCHOOL SUSPENSIONS         1187\n",
       "67     31903      G-IN SCHOOL SUSPENSIONS         4552\n",
       "74    108905            E-DAEP PLACEMENTS           38\n",
       "75    108905  F-OUT OF SCHOOL SUSPENSIONS           86\n",
       "76    108905      G-IN SCHOOL SUSPENSIONS          975\n",
       "77    108807          D-EXPULSION ACTIONS            1"
      ]
     },
     "execution_count": 10,
     "metadata": {},
     "output_type": "execute_result"
    }
   ],
   "source": [
    "applePunishments = appleRace.reset_index()\n",
    "applePunishments = applePunishments[[\"DISTRICT\",\"SECTION\",\"PUNISHMENTS\"]]\n",
    "\n",
    "applePunishments = applePunishments.drop_duplicates()\n",
    "applePunishments[10:25]"
   ]
  },
  {
   "cell_type": "code",
   "execution_count": 11,
   "metadata": {
    "collapsed": false
   },
   "outputs": [],
   "source": [
    "apple = pd.merge(apple, applePunishments, on=['DISTRICT', 'SECTION'])\n",
    "\n",
    "# apple[10:25]"
   ]
  },
  {
   "cell_type": "code",
   "execution_count": 12,
   "metadata": {
    "collapsed": false
   },
   "outputs": [],
   "source": [
    "apple = pd.merge(apple, distPop, how='outer', on=['DISTRICT'])\n",
    "\n",
    "# apple[10:25]"
   ]
  },
  {
   "cell_type": "code",
   "execution_count": 13,
   "metadata": {
    "collapsed": false
   },
   "outputs": [],
   "source": [
    "district = district.set_index(\"DISTRICT\")"
   ]
  },
  {
   "cell_type": "code",
   "execution_count": 14,
   "metadata": {
    "collapsed": false
   },
   "outputs": [],
   "source": [
    "def getRacePop(df, row):\n",
    "    return df.ix[row[\"DISTRICT\"]][row[\"HEADING NAME\"]]\n",
    "\n",
    "# getRacePop(district, apple[:3])"
   ]
  },
  {
   "cell_type": "code",
   "execution_count": 15,
   "metadata": {
    "collapsed": false
   },
   "outputs": [],
   "source": [
    "apple = apple.dropna() # disregarding lines with null values. They were creating errors."
   ]
  },
  {
   "cell_type": "code",
   "execution_count": 16,
   "metadata": {
    "collapsed": false
   },
   "outputs": [],
   "source": [
    "# Temporarily moving this information from the district dataframe to the punishment dataframe to make later\n",
    "# calculations easier.\n",
    "\n",
    "apple[\"DEMO POPULATION\"] = apple.apply(lambda x: getRacePop(district, x), axis = 1)\n",
    "\n",
    "# apple[10:25]"
   ]
  },
  {
   "cell_type": "code",
   "execution_count": 17,
   "metadata": {
    "collapsed": false
   },
   "outputs": [],
   "source": [
    "# Calculating the ratio of punishments for the demographic group compared to the punishments for the student population\n",
    "# as a whole. For instance, \"0.505\" in the disparity column indicates the group got the punishment 50.5% as often\n",
    "# as average for the student population.\n",
    "\n",
    "from scipy import stats\n",
    "from decimal import Decimal\n",
    "\n",
    "def getRatio(distPop, racePop, all_punishments, group_punishments):\n",
    "    if max(racePop, group_punishments) == 0 or None:\n",
    "        return None\n",
    "    elif all_punishments == 0 or None:\n",
    "        return 0\n",
    "    else:\n",
    "        disparity = (group_punishments / (max(all_punishments, group_punishments)) \\\n",
    "                     / (max(racePop, group_punishments) / distPop)) - 1\n",
    "        disparity = Decimal(disparity)\n",
    "        disparity = disparity.quantize(Decimal('0.01'))\n",
    "    return float(disparity)\n",
    "\n",
    "apple[\"Disparity\"] = apple.apply(lambda x: getRatio(x[\"DPETALLC\"],x[\"DEMO POPULATION\"], x[\"PUNISHMENTS\"], \\\n",
    "                              x[\"Group Punishments\"]), axis=1)\n",
    "\n",
    "# apple[:10]\n"
   ]
  },
  {
   "cell_type": "code",
   "execution_count": 18,
   "metadata": {
    "collapsed": true
   },
   "outputs": [],
   "source": [
    "# The \"RecordError\" column flags implausible data entries. Some of them could still be true if school administrators\n",
    "# applied different standards different standards to determine which students belong to which demographic group.\n",
    "# Or some could be the result of students not being counted because of the time they moved in and out of the district.\n",
    "\n",
    "def impossible(distPop, racePop, all_punishments, group_punishments):\n",
    "    impossible = False\n",
    "    if group_punishments > all_punishments or racePop > distPop:\n",
    "        impossible = True\n",
    "    if racePop == 0 and group_punishments > 0:\n",
    "        impossible = True\n",
    "    return impossible\n",
    "\n",
    "apple[\"LikelyError\"] = apple.apply(lambda x: impossible(x[\"DPETALLC\"],x[\"DEMO POPULATION\"], x[\"PUNISHMENTS\"], \\\n",
    "                              x[\"Group Punishments\"]), axis=1)"
   ]
  },
  {
   "cell_type": "code",
   "execution_count": 19,
   "metadata": {
    "collapsed": false
   },
   "outputs": [],
   "source": [
    "apple = apple.astype({'Group Punishments':int})\n",
    "\n",
    "# apple[:10]"
   ]
  },
  {
   "cell_type": "code",
   "execution_count": 20,
   "metadata": {
    "collapsed": false
   },
   "outputs": [],
   "source": [
    "# I don't know if this is a valid way to report the Fisher's exact test statistic, but the idea is that if getFisher returns a \n",
    "# positive number over .95, there's a 95% chance that the group's better-than-average treatment is not due to chance.\n",
    "# If it returns a number under -.95, there's a 95% chance that the group's worse-than-average treatment is not due to chance.\n",
    "# I think it should be easier to create a color scale to show the scores on a map this way.\n",
    "\n",
    "# The getFisher function assumes wrongly that everyone can have only one punishment (of each type). If the number of \n",
    "# punishments exceeds the number of kids, it reduces the number of punishments (and assumes wrongly that every \n",
    "# kid has been punished) But maybe the results are still close enough to correct to use for scaling?\n",
    "\n",
    "import numpy as np\n",
    "\n",
    "def getFisher(distPop, racePop, all_punishments, group_punishments):\n",
    "    if max(racePop, group_punishments) == 0 or None:\n",
    "        return None, None\n",
    "    elif all_punishments == 0 or None:\n",
    "        return 1, 0\n",
    "    else:\n",
    "        oddsratio, pvalueG = stats.fisher_exact([[racePop, max(distPop - racePop, 0)],\n",
    "                                                [group_punishments, max(all_punishments - group_punishments, 0)]], \n",
    "                                               alternative = 'greater')\n",
    "        oddsratio, pvalueL = stats.fisher_exact([[racePop, max(distPop - racePop, 0)],\n",
    "                                                [group_punishments, max(all_punishments - group_punishments, 0)]], \n",
    "                                               alternative = 'less')\n",
    "        if pvalueL < pvalueG:\n",
    "            pv = 1 - pvalueL\n",
    "        else:\n",
    "            pv = pvalueG - 1\n",
    "        pv = Decimal(pv)\n",
    "        pv = pv.quantize(Decimal('0.000001'))\n",
    "    return float(pv)\n",
    "\n",
    "apple[\"Scale\"] = apple.apply(lambda x: getFisher(x[\"DPETALLC\"],x[\"DEMO POPULATION\"], x[\"PUNISHMENTS\"], \\\n",
    "                              x[\"Group Punishments\"]), axis=1)\n"
   ]
  },
  {
   "cell_type": "code",
   "execution_count": 21,
   "metadata": {
    "collapsed": false
   },
   "outputs": [
    {
     "data": {
      "text/html": [
       "<div>\n",
       "<table border=\"1\" class=\"dataframe\">\n",
       "  <thead>\n",
       "    <tr style=\"text-align: right;\">\n",
       "      <th></th>\n",
       "      <th>DISTNAME</th>\n",
       "      <th>REGION</th>\n",
       "      <th>DPETALLC</th>\n",
       "      <th>DPETBLAP</th>\n",
       "      <th>DPETHISP</th>\n",
       "      <th>DPETWHIP</th>\n",
       "      <th>DPETINDP</th>\n",
       "      <th>DPETASIP</th>\n",
       "      <th>DPETPCIP</th>\n",
       "      <th>DPETTWOP</th>\n",
       "      <th>...</th>\n",
       "      <th>DPETSPEP</th>\n",
       "      <th>ASIAN</th>\n",
       "      <th>NATIVE HAWAIIAN/OTHER PACIFIC</th>\n",
       "      <th>TWO OR MORE RACES</th>\n",
       "      <th>HISPANIC/LATINO</th>\n",
       "      <th>BLACK OR AFRICAN AMERICAN</th>\n",
       "      <th>WHITE</th>\n",
       "      <th>Special Education</th>\n",
       "      <th>Economic Disadvantage</th>\n",
       "      <th>AMERICAN INDIAN OR ALASKA NAT</th>\n",
       "    </tr>\n",
       "    <tr>\n",
       "      <th>DISTRICT</th>\n",
       "      <th></th>\n",
       "      <th></th>\n",
       "      <th></th>\n",
       "      <th></th>\n",
       "      <th></th>\n",
       "      <th></th>\n",
       "      <th></th>\n",
       "      <th></th>\n",
       "      <th></th>\n",
       "      <th></th>\n",
       "      <th></th>\n",
       "      <th></th>\n",
       "      <th></th>\n",
       "      <th></th>\n",
       "      <th></th>\n",
       "      <th></th>\n",
       "      <th></th>\n",
       "      <th></th>\n",
       "      <th></th>\n",
       "      <th></th>\n",
       "      <th></th>\n",
       "    </tr>\n",
       "  </thead>\n",
       "  <tbody>\n",
       "    <tr>\n",
       "      <th>1902</th>\n",
       "      <td>CAYUGA ISD</td>\n",
       "      <td>7</td>\n",
       "      <td>577</td>\n",
       "      <td>4.7</td>\n",
       "      <td>6.4</td>\n",
       "      <td>82.8</td>\n",
       "      <td>0.0</td>\n",
       "      <td>0.5</td>\n",
       "      <td>0.0</td>\n",
       "      <td>5.5</td>\n",
       "      <td>...</td>\n",
       "      <td>13.2</td>\n",
       "      <td>2</td>\n",
       "      <td>0</td>\n",
       "      <td>31</td>\n",
       "      <td>36</td>\n",
       "      <td>27</td>\n",
       "      <td>477</td>\n",
       "      <td>76</td>\n",
       "      <td>210</td>\n",
       "      <td>0</td>\n",
       "    </tr>\n",
       "    <tr>\n",
       "      <th>1903</th>\n",
       "      <td>ELKHART ISD</td>\n",
       "      <td>7</td>\n",
       "      <td>1217</td>\n",
       "      <td>5.3</td>\n",
       "      <td>8.9</td>\n",
       "      <td>81.4</td>\n",
       "      <td>0.1</td>\n",
       "      <td>1.1</td>\n",
       "      <td>0.2</td>\n",
       "      <td>3.1</td>\n",
       "      <td>...</td>\n",
       "      <td>10.4</td>\n",
       "      <td>13</td>\n",
       "      <td>2</td>\n",
       "      <td>37</td>\n",
       "      <td>108</td>\n",
       "      <td>64</td>\n",
       "      <td>990</td>\n",
       "      <td>126</td>\n",
       "      <td>647</td>\n",
       "      <td>1</td>\n",
       "    </tr>\n",
       "    <tr>\n",
       "      <th>1904</th>\n",
       "      <td>FRANKSTON ISD</td>\n",
       "      <td>7</td>\n",
       "      <td>803</td>\n",
       "      <td>11.1</td>\n",
       "      <td>10.3</td>\n",
       "      <td>73.2</td>\n",
       "      <td>0.5</td>\n",
       "      <td>0.9</td>\n",
       "      <td>0.0</td>\n",
       "      <td>4.0</td>\n",
       "      <td>...</td>\n",
       "      <td>9.7</td>\n",
       "      <td>7</td>\n",
       "      <td>0</td>\n",
       "      <td>32</td>\n",
       "      <td>82</td>\n",
       "      <td>89</td>\n",
       "      <td>587</td>\n",
       "      <td>77</td>\n",
       "      <td>445</td>\n",
       "      <td>4</td>\n",
       "    </tr>\n",
       "  </tbody>\n",
       "</table>\n",
       "<p>3 rows × 21 columns</p>\n",
       "</div>"
      ],
      "text/plain": [
       "               DISTNAME  REGION  DPETALLC  DPETBLAP  DPETHISP  DPETWHIP  \\\n",
       "DISTRICT                                                                  \n",
       "1902         CAYUGA ISD       7       577       4.7       6.4      82.8   \n",
       "1903        ELKHART ISD       7      1217       5.3       8.9      81.4   \n",
       "1904      FRANKSTON ISD       7       803      11.1      10.3      73.2   \n",
       "\n",
       "          DPETINDP  DPETASIP  DPETPCIP  DPETTWOP  \\\n",
       "DISTRICT                                           \n",
       "1902           0.0       0.5       0.0       5.5   \n",
       "1903           0.1       1.1       0.2       3.1   \n",
       "1904           0.5       0.9       0.0       4.0   \n",
       "\n",
       "                      ...                DPETSPEP  ASIAN  \\\n",
       "DISTRICT              ...                                  \n",
       "1902                  ...                    13.2      2   \n",
       "1903                  ...                    10.4     13   \n",
       "1904                  ...                     9.7      7   \n",
       "\n",
       "          NATIVE HAWAIIAN/OTHER PACIFIC  TWO OR MORE RACES  HISPANIC/LATINO  \\\n",
       "DISTRICT                                                                      \n",
       "1902                                  0                 31               36   \n",
       "1903                                  2                 37              108   \n",
       "1904                                  0                 32               82   \n",
       "\n",
       "          BLACK OR AFRICAN AMERICAN  WHITE  Special Education  \\\n",
       "DISTRICT                                                        \n",
       "1902                             27    477                 76   \n",
       "1903                             64    990                126   \n",
       "1904                             89    587                 77   \n",
       "\n",
       "          Economic Disadvantage  AMERICAN INDIAN OR ALASKA NAT  \n",
       "DISTRICT                                                        \n",
       "1902                        210                              0  \n",
       "1903                        647                              1  \n",
       "1904                        445                              4  \n",
       "\n",
       "[3 rows x 21 columns]"
      ]
     },
     "execution_count": 21,
     "metadata": {},
     "output_type": "execute_result"
    }
   ],
   "source": [
    "district[:3]"
   ]
  },
  {
   "cell_type": "code",
   "execution_count": 22,
   "metadata": {
    "collapsed": false
   },
   "outputs": [],
   "source": [
    "apple = apple[['DISTRICT','SECTION', 'HEADING NAME', \"Group Punishments\", \"Disparity\", \"Scale\", \"LikelyError\"]]\n",
    "district.reset_index(level=0, inplace=True)\n",
    "district = district[['DISTRICT','DISTNAME','DPETALLC','ASIAN','AMERICAN INDIAN OR ALASKA NAT','NATIVE HAWAIIAN/OTHER PACIFIC',\\\n",
    "                     'HISPANIC/LATINO','BLACK OR AFRICAN AMERICAN','TWO OR MORE RACES','Special Education','WHITE',\\\n",
    "                     'Economic Disadvantage']]\n"
   ]
  },
  {
   "cell_type": "code",
   "execution_count": 24,
   "metadata": {
    "collapsed": false
   },
   "outputs": [],
   "source": [
    "apple.to_csv(path_or_buf = 'DistrictDisparities2015.csv', columns = ['DISTRICT','SECTION', 'HEADING NAME', \\\n",
    "                                        \"Group Punishments\", \"Disparity\", \"Scale\", \"LikelyError\"], index = False)\n",
    "\n",
    "district.to_csv(path_or_buf = 'TXDemo2015.csv', index = False)"
   ]
  }
 ],
 "metadata": {
  "kernelspec": {
   "display_name": "Python 3",
   "language": "python",
   "name": "python3"
  },
  "language_info": {
   "codemirror_mode": {
    "name": "ipython",
    "version": 3
   },
   "file_extension": ".py",
   "mimetype": "text/x-python",
   "name": "python",
   "nbconvert_exporter": "python",
   "pygments_lexer": "ipython3",
   "version": "3.5.1"
  }
 },
 "nbformat": 4,
 "nbformat_minor": 0
}
